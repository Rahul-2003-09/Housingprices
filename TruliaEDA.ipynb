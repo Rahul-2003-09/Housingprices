{
 "cells": [
  {
   "cell_type": "code",
   "execution_count": null,
   "metadata": {},
   "outputs": [],
   "source": [
    "# Dependency imports\n",
    "import re\n",
    "import csv\n",
    "import pandas as pd\n",
    "import numpy as np\n",
    "import matplotlib.pyplot as plt\n",
    "import seaborn as sns\n",
    "\n",
    "%matplotlib inline\n",
    "sns.set()\n",
    "'''\n",
    "sns.set_style({'axes.facecolor':'#E7E7F0', 'figure.facecolor':'white', \\\n",
    "               'axes.edgecolor': 'white', 'grid.color': 'white', \\\n",
    "              'axes.labelcolor': 'black', 'text.color': 'black', \\\n",
    "              'xtick.color': 'black', 'ytick.color': 'black'})\n",
    "'''\n",
    "\n",
    "# plotly standard imports\n",
    "import plotly\n",
    "plotly.tools.set_credentials_file(username='vivek.pandey', api_key='GcINHnvXXRBgEUUckTTf')\n",
    "\n",
    "import plotly.graph_objs as go\n",
    "import plotly.plotly as py\n",
    "import plotly.figure_factory as ff\n",
    "from plotly.offline import download_plotlyjs, init_notebook_mode, plot, iplot\n",
    "init_notebook_mode(connected=True) \n",
    "\n",
    "# Cufflinks wrapper on plotly\n",
    "import cufflinks\n",
    "\n",
    "# Notebook customizations\n",
    "from IPython.display import display\n",
    "pd.options.display.max_columns = None\n",
    "pd.options.display.max_colwidth = -1\n",
    "import warnings\n",
    "warnings.filterwarnings('ignore')\n",
    "\n",
    "sns.axes_style()"
   ]
  },
  {
   "cell_type": "markdown",
   "metadata": {},
   "source": [
    "### Properties EDA"
   ]
  },
  {
   "cell_type": "code",
   "execution_count": null,
   "metadata": {},
   "outputs": [],
   "source": [
    "properties_df = pd.read_csv(\"./output/engineered_trulia_properties.csv\", sep=\"|\", dtype={'zip_code': str}, encoding=\"latin1\")\n",
    "properties_df"
   ]
  },
  {
   "cell_type": "code",
   "execution_count": null,
   "metadata": {},
   "outputs": [],
   "source": [
    "# Dropping columns that do not have any value for now\n",
    "properties_df.drop(axis=0, inplace=True, columns=['basement_type', 'exterior_type', 'heating_type', \\\n",
    "                                                  'no_of_parking_spaces', 'no_of_stories', 'parking_type'])\n",
    "properties_df"
   ]
  },
  {
   "cell_type": "code",
   "execution_count": null,
   "metadata": {},
   "outputs": [],
   "source": [
    "properties_df.info()"
   ]
  },
  {
   "cell_type": "markdown",
   "metadata": {},
   "source": [
    "### Analyze and fill missing data"
   ]
  },
  {
   "cell_type": "code",
   "execution_count": null,
   "metadata": {},
   "outputs": [],
   "source": [
    "sns.heatmap(properties_df.isnull(), yticklabels=False, cbar=False, cmap='viridis')"
   ]
  },
  {
   "cell_type": "markdown",
   "metadata": {},
   "source": [
    "Lets look at how many rows have fully valid data\n",
    "#### Right now, lets only keep entirely usable data and get to model training, we'll come back later for data imputation"
   ]
  },
  {
   "cell_type": "code",
   "execution_count": null,
   "metadata": {},
   "outputs": [],
   "source": [
    "properties_df = properties_df[~(properties_df['no_of_bedrooms'].isnull() | properties_df['no_of_baths'].isnull() | \\\n",
    "              (properties_df['no_of_bedrooms'] == 0) | (properties_df['no_of_baths'] == 0) | \\\n",
    "              (properties_df['built_year'] < 1500) | (properties_df['tax_year'] < 1800) | \\\n",
    "              properties_df['tax_amount'].isnull() | (properties_df['tax_amount'] < 10) | \\\n",
    "                properties_df['area_sqft'].isnull() | (properties_df['area_sqft'] < 100) | \\\n",
    "              properties_df['lot_size'].isnull() | (properties_df['lot_size'] < 100))]\n",
    "properties_df"
   ]
  },
  {
   "cell_type": "markdown",
   "metadata": {},
   "source": [
    "#### We've dropped about half the records here, so data imputation is really important for the future to be able to use that data"
   ]
  },
  {
   "cell_type": "code",
   "execution_count": null,
   "metadata": {},
   "outputs": [],
   "source": [
    "sns.heatmap(properties_df.isnull(), yticklabels=False, cbar=False, cmap='viridis')"
   ]
  },
  {
   "cell_type": "markdown",
   "metadata": {},
   "source": [
    "Lets look at the distribution of data in the columns to see come up with close values for imputation"
   ]
  },
  {
   "cell_type": "code",
   "execution_count": null,
   "metadata": {},
   "outputs": [],
   "source": [
    "sns.boxplot(data=properties_df[~properties_df['no_of_bedrooms'].isnull() & (properties_df['no_of_bedrooms'] > 0)], \\\n",
    "            x='no_of_bedrooms', y='property_type')"
   ]
  },
  {
   "cell_type": "code",
   "execution_count": null,
   "metadata": {},
   "outputs": [],
   "source": [
    "sns.pairplot(data=properties_df[['area_sqft', 'built_year', 'lot_size', 'no_of_baths', 'no_of_bedrooms', \\\n",
    "                                 'tax_amount', 'tax_year']])"
   ]
  },
  {
   "cell_type": "markdown",
   "metadata": {},
   "source": [
    "### This subsection to prevent having to re-run the notebook from above"
   ]
  },
  {
   "cell_type": "code",
   "execution_count": null,
   "metadata": {},
   "outputs": [],
   "source": [
    "properties_temp = properties_df"
   ]
  },
  {
   "cell_type": "code",
   "execution_count": null,
   "metadata": {},
   "outputs": [],
   "source": [
    "properties_df = properties_temp"
   ]
  },
  {
   "cell_type": "markdown",
   "metadata": {},
   "source": [
    "#### Find and remove outliers"
   ]
  },
  {
   "cell_type": "code",
   "execution_count": null,
   "metadata": {},
   "outputs": [],
   "source": [
    "properties_q1 = properties_df.quantile(0.25)\n",
    "properties_q3 = properties_df.quantile(0.75)\n",
    "properties_iqr = properties_q3 - properties_q1\n",
    "\n",
    "print (properties_q3)\n",
    "print ('----------------')\n",
    "print (properties_q1)\n",
    "print ('----------------')\n",
    "print (properties_iqr)"
   ]
  },
  {
   "cell_type": "markdown",
   "metadata": {},
   "source": [
    "Some columns within a limited range might be better off without outlier filtering to prevent losing large amount of data, so remove the ones from the IQR series that we don't want to filter outliers for.\n",
    "\n",
    "Also, adjust the weights to multiply the individual column IQR's by, to prevent overfiltering or underfiltering.\n",
    "To gauge this, look at the pairplot above to get an idea of the data, and also the various quartiles calculated."
   ]
  },
  {
   "cell_type": "code",
   "execution_count": null,
   "metadata": {},
   "outputs": [],
   "source": [
    "properties_iqr = properties_iqr.drop(labels=['built_year', 'tax_year'])\n",
    "properties_iqr"
   ]
  },
  {
   "cell_type": "code",
   "execution_count": null,
   "metadata": {},
   "outputs": [],
   "source": [
    "prop_outlier_wts = {\n",
    "    'area_sqft': 2,\n",
    "    'lot_size': 10,\n",
    "    'no_of_baths': 5,\n",
    "    'no_of_bedrooms': 6,\n",
    "    'tax_amount': 25\n",
    "}"
   ]
  },
  {
   "cell_type": "code",
   "execution_count": null,
   "metadata": {},
   "outputs": [],
   "source": [
    "for index, value in properties_iqr.items():\n",
    "    print(index, value)\n",
    "    # Select only the records that fall within the valid range, automatically ignores outliers\n",
    "    properties_df = properties_df[(properties_df[index] >= (properties_q1[index] - prop_outlier_wts[index] * properties_iqr[index])) & \\\n",
    "                                  (properties_df[index] <= (properties_q3[index] + prop_outlier_wts[index] * properties_iqr[index]))]\n",
    "    print(properties_df.shape)"
   ]
  },
  {
   "cell_type": "code",
   "execution_count": null,
   "metadata": {},
   "outputs": [],
   "source": [
    "properties_df.reset_index(drop=True, inplace=True)\n",
    "properties_df"
   ]
  },
  {
   "cell_type": "code",
   "execution_count": null,
   "metadata": {},
   "outputs": [],
   "source": [
    "sns.heatmap(data=properties_df.corr(), linewidths=0.5, annot=True)"
   ]
  },
  {
   "cell_type": "markdown",
   "metadata": {},
   "source": [
    "### High and medium correlated features from Properties\n",
    "\n",
    "* area_sqft vs. no_of_baths (0.7)\n",
    "* area_sqft vs. no_of_bedrooms (0.55)\n",
    "* no_of_bedrooms vs no_of_baths (0.48)\n",
    "* no_of_baths vs. tax_amount (0.46)\n",
    "* area_sqft vs. tax_amount (0.46)"
   ]
  },
  {
   "cell_type": "markdown",
   "metadata": {},
   "source": [
    "### Replotting relationships after removing outliers"
   ]
  },
  {
   "cell_type": "code",
   "execution_count": null,
   "metadata": {},
   "outputs": [],
   "source": [
    "sns.pairplot(data=properties_df[['area_sqft', 'built_year', 'lot_size', 'no_of_baths', 'no_of_bedrooms', \\\n",
    "                                 'tax_amount', 'tax_year']])"
   ]
  },
  {
   "cell_type": "markdown",
   "metadata": {},
   "source": [
    "### Plotting in US Map"
   ]
  },
  {
   "cell_type": "code",
   "execution_count": null,
   "metadata": {},
   "outputs": [],
   "source": [
    "# Making a new column with a default value of one, so its value can be\n",
    "# passed to the map\n",
    "properties_df_for_map = properties_df\n",
    "properties_df_for_map['z'] = 1\n",
    "\n",
    "properties_map_data = dict(type='choropleth',\n",
    "            colorscale = 'YlOrRd',\n",
    "            locations = properties_df_for_map['state'],\n",
    "            z = properties_df_for_map['z'],\n",
    "            locationmode = 'USA-states',\n",
    "            text = properties_df_for_map['state'],\n",
    "            marker = dict(line = dict(color = 'rgb(255,255,255)',width = 2)),\n",
    "            colorbar = {'title':\"Properties in US\"}\n",
    "            ) "
   ]
  },
  {
   "cell_type": "code",
   "execution_count": null,
   "metadata": {},
   "outputs": [],
   "source": [
    "properties_map_layout = dict(title = 'US Properties by State',\n",
    "                              geo = dict(scope='usa',\n",
    "                                         showlakes = True,\n",
    "                                         lakecolor = 'rgb(85,173,240)')\n",
    "                             )"
   ]
  },
  {
   "cell_type": "code",
   "execution_count": null,
   "metadata": {},
   "outputs": [],
   "source": [
    "properties_choromap = go.Figure(data=[properties_map_data], layout=properties_map_layout)"
   ]
  },
  {
   "cell_type": "code",
   "execution_count": null,
   "metadata": {},
   "outputs": [],
   "source": [
    "'''\n",
    "DO NOT UNCOMMENT, THE NOTEBOOK WILL FREEZE AND CRASH WHILE RENDERING THIS MAP\n",
    "iplot(properties_choromap)\n",
    "'''"
   ]
  },
  {
   "cell_type": "markdown",
   "metadata": {},
   "source": [
    "### Transactions EDA"
   ]
  },
  {
   "cell_type": "code",
   "execution_count": null,
   "metadata": {},
   "outputs": [],
   "source": [
    "transactions_df = pd.read_csv(\"./output/engineered_trulia_transactions.csv\", sep=\"|\", parse_dates=['recording_date', 'contract_date'], \\\n",
    "                              encoding=\"latin1\")\n",
    "transactions_df"
   ]
  },
  {
   "cell_type": "code",
   "execution_count": null,
   "metadata": {},
   "outputs": [],
   "source": [
    "transactions_df.describe()"
   ]
  },
  {
   "cell_type": "code",
   "execution_count": null,
   "metadata": {},
   "outputs": [],
   "source": [
    "sns.heatmap(transactions_df.isnull(), yticklabels=False, cbar=False, cmap='viridis')"
   ]
  },
  {
   "cell_type": "markdown",
   "metadata": {},
   "source": [
    "#### Dropping the county_transfer_tax and total_transfer_tax columns cause they are heavily nulls and removing rows that have incomplete data cause they are few"
   ]
  },
  {
   "cell_type": "code",
   "execution_count": null,
   "metadata": {},
   "outputs": [],
   "source": [
    "transactions_df = transactions_df.drop(columns=['county_transfer_tax', 'total_transfer_tax'], axis=1)\n",
    "transactions_df"
   ]
  },
  {
   "cell_type": "code",
   "execution_count": null,
   "metadata": {},
   "outputs": [],
   "source": [
    "transactions_df = transactions_df[~(transactions_df['contract_date'].isnull() | \\\n",
    "                                    transactions_df['document_type'].isnull() | \\\n",
    "                                   transactions_df['transaction_type'].isnull() | \\\n",
    "                                   (transactions_df['price'] < 1000))]\n",
    "transactions_df"
   ]
  },
  {
   "cell_type": "code",
   "execution_count": null,
   "metadata": {},
   "outputs": [],
   "source": [
    "transactions_df['recording_year'] = transactions_df['recording_date'].dt.year\n",
    "transactions_df['recording_month'] = transactions_df['recording_date'].dt.month\n",
    "transactions_df['recording_day'] = transactions_df['recording_date'].dt.day\n",
    "transactions_df['contract_year'] = transactions_df['contract_date'].dt.year\n",
    "transactions_df['contract_month'] = transactions_df['contract_date'].dt.month\n",
    "transactions_df['contract_day'] = transactions_df['contract_date'].dt.day\n",
    "\n",
    "transactions_df = transactions_df.drop(columns=['recording_date', 'contract_date'], axis=1)\n",
    "transactions_df"
   ]
  },
  {
   "cell_type": "code",
   "execution_count": null,
   "metadata": {},
   "outputs": [],
   "source": [
    "sns.boxplot(data=transactions_df, x='price', y='transaction_type')"
   ]
  },
  {
   "cell_type": "code",
   "execution_count": null,
   "metadata": {},
   "outputs": [],
   "source": [
    "sns.pairplot(data=transactions_df)"
   ]
  },
  {
   "cell_type": "markdown",
   "metadata": {},
   "source": [
    "### This subsection to prevent having to re-run the notebook from above"
   ]
  },
  {
   "cell_type": "code",
   "execution_count": null,
   "metadata": {},
   "outputs": [],
   "source": [
    "transactions_temp = transactions_df"
   ]
  },
  {
   "cell_type": "code",
   "execution_count": null,
   "metadata": {},
   "outputs": [],
   "source": [
    "transactions_df = transactions_temp"
   ]
  },
  {
   "cell_type": "markdown",
   "metadata": {},
   "source": [
    "### Find, analyze and remove outliers in transaction data"
   ]
  },
  {
   "cell_type": "code",
   "execution_count": null,
   "metadata": {},
   "outputs": [],
   "source": [
    "transactions_q1 = transactions_df.quantile(0.25)\n",
    "transactions_q3 = transactions_df.quantile(0.75)\n",
    "transactions_iqr = transactions_q3 - transactions_q1\n",
    "transactions_iqr"
   ]
  },
  {
   "cell_type": "code",
   "execution_count": null,
   "metadata": {
    "scrolled": true
   },
   "outputs": [],
   "source": [
    "transactions_df[transactions_df['price'] > 20000000]"
   ]
  },
  {
   "cell_type": "code",
   "execution_count": null,
   "metadata": {},
   "outputs": [],
   "source": [
    "transactions_df = transactions_df[transactions_df['price'] < 20000000]"
   ]
  },
  {
   "cell_type": "code",
   "execution_count": null,
   "metadata": {},
   "outputs": [],
   "source": [
    "transactions_df[transactions_df['price'].isna()]"
   ]
  },
  {
   "cell_type": "code",
   "execution_count": null,
   "metadata": {},
   "outputs": [],
   "source": [
    "sns.boxplot(data=transactions_df, x='price')"
   ]
  },
  {
   "cell_type": "code",
   "execution_count": null,
   "metadata": {},
   "outputs": [],
   "source": [
    "# Filling in nans cause the plotting can't handle NaNs\n",
    "transactions_df['price'].fillna(value=0, inplace=True)"
   ]
  },
  {
   "cell_type": "code",
   "execution_count": null,
   "metadata": {},
   "outputs": [],
   "source": [
    "sns.boxplot(data=transactions_df, x='price')"
   ]
  },
  {
   "cell_type": "code",
   "execution_count": null,
   "metadata": {
    "scrolled": true
   },
   "outputs": [],
   "source": [
    "sns.distplot(transactions_df['price'], bins=5)"
   ]
  },
  {
   "cell_type": "code",
   "execution_count": null,
   "metadata": {},
   "outputs": [],
   "source": [
    "sns.jointplot(data=transactions_df, x='total_transfer_tax', y='price', kind='reg')"
   ]
  },
  {
   "cell_type": "code",
   "execution_count": null,
   "metadata": {},
   "outputs": [],
   "source": [
    "sns.boxplot(data=transactions_df, x='price')"
   ]
  },
  {
   "cell_type": "code",
   "execution_count": null,
   "metadata": {},
   "outputs": [],
   "source": [
    "sns.heatmap(data=transactions_df.corr(), annot=True)"
   ]
  },
  {
   "cell_type": "markdown",
   "metadata": {},
   "source": [
    "### High and medium correlated features from Transactions\n",
    "\n",
    "* total_transfer_tax vs. county_transfer_tax (0.72)"
   ]
  },
  {
   "cell_type": "code",
   "execution_count": null,
   "metadata": {},
   "outputs": [],
   "source": [
    "sns.pairplot(transactions_df)"
   ]
  },
  {
   "cell_type": "code",
   "execution_count": null,
   "metadata": {},
   "outputs": [],
   "source": [
    "sns.relplot(data=transactions_df, x='price', y='total_transfer_tax')"
   ]
  },
  {
   "cell_type": "markdown",
   "metadata": {},
   "source": [
    "### Playin around with plot.ly"
   ]
  },
  {
   "cell_type": "code",
   "execution_count": null,
   "metadata": {
    "scrolled": false
   },
   "outputs": [],
   "source": [
    "transactions_df[['price', 'total_transfer_tax']].iplot(kind='box')"
   ]
  },
  {
   "cell_type": "code",
   "execution_count": null,
   "metadata": {},
   "outputs": [],
   "source": [
    "transactions_df['price'].iplot(kind='hist', xTitle='price', yTitle='count', title='Price Distribution')"
   ]
  },
  {
   "cell_type": "code",
   "execution_count": null,
   "metadata": {},
   "outputs": [],
   "source": [
    "transactions_matrix_fig = ff.create_scatterplotmatrix(transactions_df[['price', 'total_transfer_tax', \\\n",
    "                                                                       'county_transfer_tax']], diag='histogram')\n",
    "py.iplot(transactions_matrix_fig)"
   ]
  },
  {
   "cell_type": "code",
   "execution_count": null,
   "metadata": {},
   "outputs": [],
   "source": [
    "transactions_df[transactions_df['price'] == transactions_df['price'].max()]"
   ]
  },
  {
   "cell_type": "markdown",
   "metadata": {},
   "source": [
    "### Enriching transactions data with properties data"
   ]
  },
  {
   "cell_type": "code",
   "execution_count": null,
   "metadata": {},
   "outputs": [],
   "source": [
    "transactions_en_df = pd.merge(transactions_df, properties_df, how='left', on=['property_url'])\n",
    "transactions_en_df"
   ]
  },
  {
   "cell_type": "code",
   "execution_count": null,
   "metadata": {},
   "outputs": [],
   "source": []
  },
  {
   "cell_type": "code",
   "execution_count": null,
   "metadata": {},
   "outputs": [],
   "source": []
  }
 ],
 "metadata": {
  "kernelspec": {
   "display_name": "Python 3",
   "language": "python",
   "name": "python3"
  },
  "language_info": {
   "codemirror_mode": {
    "name": "ipython",
    "version": 3
   },
   "file_extension": ".py",
   "mimetype": "text/x-python",
   "name": "python",
   "nbconvert_exporter": "python",
   "pygments_lexer": "ipython3",
   "version": "3.7.1"
  }
 },
 "nbformat": 4,
 "nbformat_minor": 2
}
